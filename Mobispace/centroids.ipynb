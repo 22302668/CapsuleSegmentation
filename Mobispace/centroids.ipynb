{
 "cells": [
  {
   "cell_type": "markdown",
   "metadata": {},
   "source": [
    "# Récupère tous les points des bâtiments depuis une API"
   ]
  },
  {
   "cell_type": "code",
   "execution_count": 1,
   "metadata": {},
   "outputs": [
    {
     "name": "stderr",
     "output_type": "stream",
     "text": [
      "c:\\Users\\bapti\\anaconda3\\lib\\site-packages\\pyogrio\\raw.py:198: RuntimeWarning: driver CSV does not support open option ON_BAD_LINES\n",
      "  return ogr_read(\n"
     ]
    },
    {
     "name": "stdout",
     "output_type": "stream",
     "text": [
      "                                Geo Point  \\\n",
      "0  48.688642156684246, 2.3462712918511572   \n",
      "1     48.6871471110328, 2.355957246360331   \n",
      "2  48.688148345604866, 2.3303410201219905   \n",
      "3  48.686297862250576, 2.3607111364661155   \n",
      "4    48.68708554964789, 2.358796572798365   \n",
      "\n",
      "                                           Geo Shape objectid    n_sq_eb  \\\n",
      "0  {\"coordinates\": [[[2.34625533386528, 48.688701...   665501  910026671   \n",
      "1  {\"coordinates\": [[[2.35593861413946, 48.687086...   665503  910026673   \n",
      "2  {\"coordinates\": [[[2.330302668589308, 48.68812...   665527  910026696   \n",
      "3  {\"coordinates\": [[[2.360682459434178, 48.68624...   665534  910026702   \n",
      "4  {\"coordinates\": [[[2.358842500507619, 48.68710...   665539  910026706   \n",
      "\n",
      "  dur_code              h_moy h_med h_min h_max            surface    n_sq_co  \\\n",
      "0       01         6.86197691   6.9   4.5   8.7  90.08079996999999  910001140   \n",
      "1       01  7.804654289999999   8.0   3.5  10.1        84.00525001  910001140   \n",
      "2       02         4.22166667   4.2   2.5   5.6           18.99465  910001140   \n",
      "3       01         6.52946154   6.3   4.6  10.0        74.98630001  910001140   \n",
      "4       01         6.08831169   6.0   3.4   7.7        90.11055247  910001140   \n",
      "\n",
      "     source b_dalle b_igh c_morpho al_med_mnt al_med_mne m2_terrveg  \\\n",
      "0  CADASTRE                      1       93.9      100.8        0.0   \n",
      "1  CADASTRE                      1       85.5       93.5        0.0   \n",
      "2  CADASTRE                      1       95.5       99.7        0.0   \n",
      "3  CADASTRE                      1       81.3       87.6        0.0   \n",
      "4  CADASTRE                      1       82.6       88.6        0.0   \n",
      "\n",
      "           shape_Leng          shape_Area  \n",
      "0  38.981970262441486   90.08079997321666  \n",
      "1  37.498310306082445   84.00525000775606  \n",
      "2   19.63362944801389  18.994650001859664  \n",
      "3  36.160945772311564   74.98630001143441  \n",
      "4   39.32932945727777   90.11055247419428  \n"
     ]
    }
   ],
   "source": [
    "import geopandas as gpd\n",
    "\n",
    "centroid_versailles = gpd.read_file(\"emprise-batie-metropole-du-grand-paris.csv\", encoding='latin1', on_bad_lines='skip')\n",
    "print(centroid_versailles.head())"
   ]
  },
  {
   "cell_type": "markdown",
   "metadata": {},
   "source": [
    "# Récupère les bâtiments qui sont dans la zone des trajectoires"
   ]
  },
  {
   "cell_type": "code",
   "execution_count": 2,
   "metadata": {},
   "outputs": [
    {
     "name": "stdout",
     "output_type": "stream",
     "text": [
      "Nombre de lignes après suppression des valeurs vides : 996108\n",
      "    latitude  longitude\n",
      "0  48.688642   2.346271\n",
      "1  48.687147   2.355957\n",
      "2  48.688148   2.330341\n",
      "3  48.686298   2.360711\n",
      "4  48.687086   2.358797\n",
      "                                Geo Point  \\\n",
      "0  48.688642156684246, 2.3462712918511572   \n",
      "1     48.6871471110328, 2.355957246360331   \n",
      "2  48.688148345604866, 2.3303410201219905   \n",
      "3  48.686297862250576, 2.3607111364661155   \n",
      "4    48.68708554964789, 2.358796572798365   \n",
      "\n",
      "                                           Geo Shape objectid    n_sq_eb  \\\n",
      "0  {\"coordinates\": [[[2.34625533386528, 48.688701...   665501  910026671   \n",
      "1  {\"coordinates\": [[[2.35593861413946, 48.687086...   665503  910026673   \n",
      "2  {\"coordinates\": [[[2.330302668589308, 48.68812...   665527  910026696   \n",
      "3  {\"coordinates\": [[[2.360682459434178, 48.68624...   665534  910026702   \n",
      "4  {\"coordinates\": [[[2.358842500507619, 48.68710...   665539  910026706   \n",
      "\n",
      "  dur_code              h_moy h_med h_min h_max            surface  ...  \\\n",
      "0       01         6.86197691   6.9   4.5   8.7  90.08079996999999  ...   \n",
      "1       01  7.804654289999999   8.0   3.5  10.1        84.00525001  ...   \n",
      "2       02         4.22166667   4.2   2.5   5.6           18.99465  ...   \n",
      "3       01         6.52946154   6.3   4.6  10.0        74.98630001  ...   \n",
      "4       01         6.08831169   6.0   3.4   7.7        90.11055247  ...   \n",
      "\n",
      "  b_dalle b_igh c_morpho al_med_mnt al_med_mne m2_terrveg          shape_Leng  \\\n",
      "0                      1       93.9      100.8        0.0  38.981970262441486   \n",
      "1                      1       85.5       93.5        0.0  37.498310306082445   \n",
      "2                      1       95.5       99.7        0.0   19.63362944801389   \n",
      "3                      1       81.3       87.6        0.0  36.160945772311564   \n",
      "4                      1       82.6       88.6        0.0   39.32932945727777   \n",
      "\n",
      "           shape_Area   latitude longitude  \n",
      "0   90.08079997321666  48.688642  2.346271  \n",
      "1   84.00525000775606  48.687147  2.355957  \n",
      "2  18.994650001859664  48.688148  2.330341  \n",
      "3   74.98630001143441  48.686298  2.360711  \n",
      "4   90.11055247419428  48.687086  2.358797  \n",
      "\n",
      "[5 rows x 22 columns]\n"
     ]
    }
   ],
   "source": [
    "# Supprimer les lignes où la colonne \"Geo Point\" est vide\n",
    "centroid_versailles = centroid_versailles[centroid_versailles['Geo Point'].notna() & (centroid_versailles['Geo Point'] != '')]\n",
    "\n",
    "# Afficher le nombre de lignes restantes\n",
    "print(f\"Nombre de lignes après suppression des valeurs vides : {len(centroid_versailles)}\")\n",
    "# Diviser la colonne \"Geo Point\" en latitude et longitude\n",
    "centroid_versailles[['latitude', 'longitude']] = centroid_versailles['Geo Point'].str.split(',', expand=True).astype(float)\n",
    "\n",
    "# Afficher les premières lignes pour vérifier\n",
    "print(centroid_versailles[['latitude', 'longitude']].head())\n",
    "print(centroid_versailles.head())"
   ]
  },
  {
   "cell_type": "code",
   "execution_count": 3,
   "metadata": {},
   "outputs": [
    {
     "name": "stdout",
     "output_type": "stream",
     "text": [
      "    latitude  longitude\n",
      "0  48.688642   2.346271\n",
      "1  48.687147   2.355957\n",
      "2  48.688148   2.330341\n",
      "3  48.686298   2.360711\n",
      "4  48.687086   2.358797\n",
      "Valeurs minimales et maximales de latitude : 48.64642207457913 49.02276328922562\n",
      "Valeurs minimales et maximales de longitude : 2.145943438278944 2.612682292502828\n"
     ]
    }
   ],
   "source": [
    "# Créer un nouveau dataset avec uniquement latitude et longitude\n",
    "geo_points_dataset = centroid_versailles[['latitude', 'longitude']]\n",
    "\n",
    "# Afficher les premières lignes pour vérifier\n",
    "print(geo_points_dataset.head())\n",
    "print(\"Valeurs minimales et maximales de latitude :\", centroid_versailles['latitude'].min(), centroid_versailles['latitude'].max())\n",
    "print(\"Valeurs minimales et maximales de longitude :\", centroid_versailles['longitude'].min(), centroid_versailles['longitude'].max())"
   ]
  },
  {
   "cell_type": "markdown",
   "metadata": {},
   "source": [
    "# Créer un dataframe avec les coordonnées des bâtiments sous forme géospatiale"
   ]
  },
  {
   "cell_type": "code",
   "execution_count": null,
   "metadata": {},
   "outputs": [
    {
     "name": "stdout",
     "output_type": "stream",
     "text": [
      "     latitude  longitude\n",
      "11  48.936585   2.226334\n",
      "12  48.934806   2.221537\n",
      "13  48.937153   2.221546\n",
      "14  48.940815   2.220602\n",
      "15  48.940284   2.217001\n"
     ]
    }
   ],
   "source": [
    "# Définir les limites de la bounding box\n",
    "min_lon, min_lat, max_lon, max_lat = 2.00, 48.7, 2.40, 49.0\n",
    "\n",
    "# Filtrer les points dans la bounding box\n",
    "filtered_points = geo_points_dataset[\n",
    "    (geo_points_dataset['longitude'] >= min_lon) &\n",
    "    (geo_points_dataset['longitude'] <= max_lon) &\n",
    "    (geo_points_dataset['latitude'] >= min_lat) &\n",
    "    (geo_points_dataset['latitude'] <= max_lat)\n",
    "]\n",
    "\n",
    "# Afficher les premières lignes filtrées\n",
    "print(filtered_points[['latitude', 'longitude']].head())"
   ]
  },
  {
   "cell_type": "code",
   "execution_count": 1,
   "metadata": {},
   "outputs": [
    {
     "ename": "NameError",
     "evalue": "name 'filtered_points' is not defined",
     "output_type": "error",
     "traceback": [
      "\u001b[1;31m---------------------------------------------------------------------------\u001b[0m",
      "\u001b[1;31mNameError\u001b[0m                                 Traceback (most recent call last)",
      "\u001b[1;32m~\\AppData\\Local\\Temp\\ipykernel_13888\\3658134321.py\u001b[0m in \u001b[0;36m<module>\u001b[1;34m\u001b[0m\n\u001b[0;32m      1\u001b[0m \u001b[1;32mfrom\u001b[0m \u001b[0mshapely\u001b[0m\u001b[1;33m.\u001b[0m\u001b[0mgeometry\u001b[0m \u001b[1;32mimport\u001b[0m \u001b[0mPoint\u001b[0m\u001b[1;33m\u001b[0m\u001b[1;33m\u001b[0m\u001b[0m\n\u001b[0;32m      2\u001b[0m \u001b[1;31m# Créer des points géométriques à partir des colonnes 'longitude' et 'latitude'\u001b[0m\u001b[1;33m\u001b[0m\u001b[1;33m\u001b[0m\u001b[0m\n\u001b[1;32m----> 3\u001b[1;33m \u001b[0mgeometry\u001b[0m \u001b[1;33m=\u001b[0m \u001b[1;33m[\u001b[0m\u001b[0mPoint\u001b[0m\u001b[1;33m(\u001b[0m\u001b[0mxy\u001b[0m\u001b[1;33m)\u001b[0m \u001b[1;32mfor\u001b[0m \u001b[0mxy\u001b[0m \u001b[1;32min\u001b[0m \u001b[0mzip\u001b[0m\u001b[1;33m(\u001b[0m\u001b[0mfiltered_points\u001b[0m\u001b[1;33m[\u001b[0m\u001b[1;34m'longitude'\u001b[0m\u001b[1;33m]\u001b[0m\u001b[1;33m,\u001b[0m \u001b[0mfiltered_points\u001b[0m\u001b[1;33m[\u001b[0m\u001b[1;34m'latitude'\u001b[0m\u001b[1;33m]\u001b[0m\u001b[1;33m)\u001b[0m\u001b[1;33m]\u001b[0m\u001b[1;33m\u001b[0m\u001b[1;33m\u001b[0m\u001b[0m\n\u001b[0m\u001b[0;32m      4\u001b[0m \u001b[1;33m\u001b[0m\u001b[0m\n\u001b[0;32m      5\u001b[0m \u001b[0mgdf\u001b[0m \u001b[1;33m=\u001b[0m \u001b[0mgpd\u001b[0m\u001b[1;33m.\u001b[0m\u001b[0mGeoDataFrame\u001b[0m\u001b[1;33m(\u001b[0m\u001b[0mgeometry\u001b[0m\u001b[1;33m=\u001b[0m\u001b[0mgeometry\u001b[0m\u001b[1;33m,\u001b[0m \u001b[0mcrs\u001b[0m\u001b[1;33m=\u001b[0m\u001b[1;34m\"EPSG:4326\"\u001b[0m\u001b[1;33m)\u001b[0m\u001b[1;33m\u001b[0m\u001b[1;33m\u001b[0m\u001b[0m\n",
      "\u001b[1;31mNameError\u001b[0m: name 'filtered_points' is not defined"
     ]
    }
   ],
   "source": [
    "from shapely.geometry import Point\n",
    "# Créer des points géométriques à partir des colonnes 'longitude' et 'latitude'\n",
    "geometry = [Point(xy) for xy in zip(filtered_points['longitude'], filtered_points['latitude'])]\n",
    "\n",
    "gdf = gpd.GeoDataFrame(geometry=geometry, crs=\"EPSG:4326\")\n",
    "print(gdf.head())"
   ]
  },
  {
   "cell_type": "markdown",
   "metadata": {},
   "source": [
    "# Enregistrer les bâtiments pour l'utiliser avec le code my-home-is-my-secret"
   ]
  },
  {
   "cell_type": "code",
   "execution_count": null,
   "metadata": {},
   "outputs": [],
   "source": [
    "gdf.to_file(\"../../my-home-is-my-secret/my-home-is-my-secret-master/input/centroids_versailles.shp\")"
   ]
  }
 ],
 "metadata": {
  "kernelspec": {
   "display_name": "base",
   "language": "python",
   "name": "python3"
  },
  "language_info": {
   "codemirror_mode": {
    "name": "ipython",
    "version": 3
   },
   "file_extension": ".py",
   "mimetype": "text/x-python",
   "name": "python",
   "nbconvert_exporter": "python",
   "pygments_lexer": "ipython3",
   "version": "3.9.21"
  }
 },
 "nbformat": 4,
 "nbformat_minor": 2
}
