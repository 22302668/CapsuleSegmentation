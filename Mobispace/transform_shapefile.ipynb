{
 "cells": [
  {
   "cell_type": "code",
   "execution_count": 4,
   "metadata": {},
   "outputs": [
    {
     "name": "stdout",
     "output_type": "stream",
     "text": [
      "      osm_id  code    fclass                  name        type  \\\n",
      "0  289030316  1500  building                  None        None   \n",
      "1    4217650  1500  building  Aalto Tietotekniikka  university   \n",
      "2  289030318  1500  building                  None        None   \n",
      "3    4220761  1500  building                  None        None   \n",
      "4  289030319  1500  building                  None        None   \n",
      "\n",
      "                         geometry  \n",
      "0  POINT (371390.465 6678272.882)  \n",
      "1  POINT (379182.399 6674225.255)  \n",
      "2  POINT (371483.987 6678265.524)  \n",
      "3    POINT (381166.6 6676424.438)  \n",
      "4  POINT (371399.045 6678238.584)  \n",
      "EPSG:32635\n",
      "Nombre d'entités : 185972\n"
     ]
    }
   ],
   "source": [
    "import geopandas as gpd\n",
    "\n",
    "# Lire le fichier Shapefile\n",
    "gdf = gpd.read_file(\"../my-home-is-my-secret/my-home-is-my-secret-master/input/centroids-utm.shp\")\n",
    "\n",
    "# Afficher les 5 premières lignes\n",
    "print(gdf.head())\n",
    "\n",
    "# Vérifier le système de coordonnées (CRS)\n",
    "print(gdf.crs)\n",
    "\n",
    "# Vérifier le nombre de lignes\n",
    "print(f\"Nombre d'entités : {len(gdf)}\")"
   ]
  },
  {
   "cell_type": "code",
   "execution_count": 8,
   "metadata": {},
   "outputs": [
    {
     "name": "stdout",
     "output_type": "stream",
     "text": [
      "Fichier Shapefile enregistré sous : ../my-home-is-my-secret/my-home-is-my-secret-master/input/centroids_test.shp\n"
     ]
    }
   ],
   "source": [
    "# Remplacer la colonne 'name' par None pour les erreurs d'encodage\n",
    "gdf['name'] = None\n",
    "gdf['type'] = None\n",
    "# Enregistrer le GeoDataFrame dans un fichier Shapefile\n",
    "output_path = \"../my-home-is-my-secret/my-home-is-my-secret-master/input/centroids_test.shp\"\n",
    "gdf.to_file(output_path)\n",
    "\n",
    "print(f\"Fichier Shapefile enregistré sous : {output_path}\")"
   ]
  }
 ],
 "metadata": {
  "kernelspec": {
   "display_name": "Python 3",
   "language": "python",
   "name": "python3"
  },
  "language_info": {
   "codemirror_mode": {
    "name": "ipython",
    "version": 3
   },
   "file_extension": ".py",
   "mimetype": "text/x-python",
   "name": "python",
   "nbconvert_exporter": "python",
   "pygments_lexer": "ipython3",
   "version": "3.13.2"
  }
 },
 "nbformat": 4,
 "nbformat_minor": 2
}
